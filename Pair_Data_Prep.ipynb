{
 "cells": [
  {
   "cell_type": "markdown",
   "metadata": {},
   "source": [
    "# includes"
   ]
  },
  {
   "cell_type": "code",
   "execution_count": 2,
   "metadata": {},
   "outputs": [],
   "source": [
    "from data_proc import DataProc\n",
    "from capture_plot import CaptureOnClick\n",
    "\n",
    "from datetime import datetime, timedelta\n",
    "import os\n",
    "\n",
    "%matplotlib widget\n",
    "#%matplotlib inline\n",
    "#%matplotlib notebook\n"
   ]
  },
  {
   "cell_type": "code",
   "execution_count": 3,
   "metadata": {},
   "outputs": [
    {
     "name": "stdout",
     "output_type": "stream",
     "text": [
      "0.12.10b0\n"
     ]
    }
   ],
   "source": [
    "print(mpf.__version__)"
   ]
  },
  {
   "cell_type": "markdown",
   "metadata": {},
   "source": [
    "# simple flow"
   ]
  },
  {
   "cell_type": "markdown",
   "metadata": {},
   "source": [
    "## Configure data input"
   ]
  },
  {
   "cell_type": "code",
   "execution_count": 4,
   "metadata": {},
   "outputs": [
    {
     "name": "stdout",
     "output_type": "stream",
     "text": [
      "(370, 5)\n",
      "(100, 5)\n"
     ]
    }
   ],
   "source": [
    "TOTAL_CANDLES = 100\n",
    "SYMBOL = 'BTCUSDT'\n",
    "INTERVAL ='1m'\n",
    "\n",
    "dtata_processor = DataProc()\n",
    "pair_df, _, _ = dtata_processor.get_new_data()\n",
    "\n"
   ]
  },
  {
   "cell_type": "code",
   "execution_count": 5,
   "metadata": {},
   "outputs": [
    {
     "name": "stdout",
     "output_type": "stream",
     "text": [
      "DatetimeIndex(['2023-12-09 17:30:00', '2023-12-09 17:45:00',\n",
      "               '2023-12-09 18:00:00', '2023-12-09 18:15:00',\n",
      "               '2023-12-09 18:30:00', '2023-12-09 18:45:00',\n",
      "               '2023-12-09 19:00:00', '2023-12-09 19:15:00',\n",
      "               '2023-12-09 19:30:00', '2023-12-09 19:45:00'],\n",
      "              dtype='datetime64[ns]', name='Date', freq=None)\n",
      "                         Open      High       Low     Close     Volume\n",
      "Date                                                                  \n",
      "2023-12-09 17:30:00  43952.62  44032.03  43929.74  43941.47  184.50393\n",
      "2023-12-09 17:45:00  43941.46  43941.47  43889.87  43891.46  132.84671\n",
      "2023-12-09 18:00:00  43891.46  43933.85  43877.34  43877.34  180.71621\n",
      "2023-12-09 18:15:00  43877.34  43961.10  43877.34  43929.19  150.77571\n",
      "2023-12-09 18:30:00  43929.19  43995.01  43929.19  43956.72  177.59197\n"
     ]
    }
   ],
   "source": [
    "print(pair_df.index[0:10])\n",
    "print(pair_df[0:5])"
   ]
  },
  {
   "cell_type": "markdown",
   "metadata": {},
   "source": [
    "## Aquire selections\n",
    "* left click places buy mark\n",
    "* right click places sell mark\n",
    "* shift+left click removes the nearest mark"
   ]
  },
  {
   "cell_type": "code",
   "execution_count": 1,
   "metadata": {},
   "outputs": [
    {
     "ename": "NameError",
     "evalue": "name 'path' is not defined",
     "output_type": "error",
     "traceback": [
      "\u001b[1;31m---------------------------------------------------------------------------\u001b[0m",
      "\u001b[1;31mNameError\u001b[0m                                 Traceback (most recent call last)",
      "Cell \u001b[1;32mIn[1], line 1\u001b[0m\n\u001b[1;32m----> 1\u001b[0m plt_filename \u001b[38;5;241m=\u001b[39m \u001b[43mpath\u001b[49m\u001b[38;5;241m+\u001b[39m\u001b[38;5;124m'\u001b[39m\u001b[38;5;124mm_\u001b[39m\u001b[38;5;124m'\u001b[39m\u001b[38;5;241m+\u001b[39m filename\n\u001b[0;32m      2\u001b[0m \u001b[38;5;66;03m# Load points from file and continue editing/start anew\u001b[39;00m\n\u001b[0;32m      3\u001b[0m plotter \u001b[38;5;241m=\u001b[39m plt_capture_onclick(pair_df, load_filename\u001b[38;5;241m=\u001b[39mplt_filename, pair_name \u001b[38;5;241m=\u001b[39m SYMBOL)\n",
      "\u001b[1;31mNameError\u001b[0m: name 'path' is not defined"
     ]
    }
   ],
   "source": [
    "plotter = CaptureOnClick(pair_df, dtata_processor)"
   ]
  },
  {
   "cell_type": "markdown",
   "metadata": {},
   "source": [
    "## store selections"
   ]
  },
  {
   "cell_type": "code",
   "execution_count": 19,
   "metadata": {},
   "outputs": [],
   "source": [
    "# Save points to file\n",
    "plotter.save_m_to_file()"
   ]
  },
  {
   "cell_type": "markdown",
   "metadata": {},
   "source": [
    "## debug print from chart, on mouse click "
   ]
  },
  {
   "cell_type": "code",
   "execution_count": 6,
   "metadata": {},
   "outputs": [
    {
     "name": "stdout",
     "output_type": "stream",
     "text": [
      "Data coords: (91.13633419354838, 43927.39457142858) date clicked: 2023-12-10 16:00:00  figure coords: (803, 375)\n"
     ]
    }
   ],
   "source": [
    "print(plotter.captured_output)"
   ]
  },
  {
   "cell_type": "code",
   "execution_count": null,
   "metadata": {},
   "outputs": [],
   "source": []
  }
 ],
 "metadata": {
  "kernelspec": {
   "display_name": "Python 3 (ipykernel)",
   "language": "python",
   "name": "python3"
  },
  "language_info": {
   "codemirror_mode": {
    "name": "ipython",
    "version": 3
   },
   "file_extension": ".py",
   "mimetype": "text/x-python",
   "name": "python",
   "nbconvert_exporter": "python",
   "pygments_lexer": "ipython3",
   "version": "3.10.0rc2"
  }
 },
 "nbformat": 4,
 "nbformat_minor": 4
}
