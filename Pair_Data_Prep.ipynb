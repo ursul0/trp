{
 "cells": [
  {
   "cell_type": "markdown",
   "metadata": {},
   "source": [
    "# includes"
   ]
  },
  {
   "cell_type": "code",
   "execution_count": 1,
   "metadata": {},
   "outputs": [],
   "source": [
    "from data_proc import get_historic_data, get_all_historic_data, read_data_tail\n",
    "from capture_plot import plt_capture_onclick\n",
    "\n",
    "from datetime import datetime, timedelta\n",
    "import os\n",
    "\n",
    "%matplotlib widget\n",
    "#%matplotlib inline\n",
    "#%matplotlib notebook\n",
    "\n"
   ]
  },
  {
   "cell_type": "code",
   "execution_count": null,
   "metadata": {},
   "outputs": [],
   "source": [
    "print(plt_filename)"
   ]
  },
  {
   "cell_type": "markdown",
   "metadata": {},
   "source": [
    "# simple flow"
   ]
  },
  {
   "cell_type": "markdown",
   "metadata": {},
   "source": [
    "## configure data input"
   ]
  },
  {
   "cell_type": "code",
   "execution_count": 2,
   "metadata": {},
   "outputs": [
    {
     "ename": "AttributeError",
     "evalue": "'list' object has no attribute 'to_csv'",
     "output_type": "error",
     "traceback": [
      "\u001b[1;31m---------------------------------------------------------------------------\u001b[0m",
      "\u001b[1;31mAttributeError\u001b[0m                            Traceback (most recent call last)",
      "Cell \u001b[1;32mIn[2], line 29\u001b[0m\n\u001b[0;32m     25\u001b[0m filename \u001b[38;5;241m=\u001b[39m SYMBOL\u001b[38;5;241m+\u001b[39mtc\u001b[38;5;241m+\u001b[39mINTERVAL\u001b[38;5;241m+\u001b[39mcurrent_date\u001b[38;5;241m.\u001b[39mstrftime(\u001b[38;5;124m'\u001b[39m\u001b[38;5;124m-\u001b[39m\u001b[38;5;124m%\u001b[39m\u001b[38;5;124mY-\u001b[39m\u001b[38;5;124m%\u001b[39m\u001b[38;5;124mm-\u001b[39m\u001b[38;5;132;01m%d\u001b[39;00m\u001b[38;5;124m-\u001b[39m\u001b[38;5;124m'\u001b[39m)\u001b[38;5;241m+\u001b[39m\u001b[38;5;28mstr\u001b[39m(TOTAL_CANDLES)\u001b[38;5;241m+\u001b[39m\u001b[38;5;124m'\u001b[39m\u001b[38;5;124m.csv\u001b[39m\u001b[38;5;124m'\u001b[39m\n\u001b[0;32m     27\u001b[0m \u001b[38;5;28;01mif\u001b[39;00m \u001b[38;5;129;01mnot\u001b[39;00m os\u001b[38;5;241m.\u001b[39mpath\u001b[38;5;241m.\u001b[39mexists(path\u001b[38;5;241m+\u001b[39mfilename):\n\u001b[0;32m     28\u001b[0m     \u001b[38;5;66;03m# valid intervals - 1m, 3m, 5m, 15m, 30m, 1h, 2h, 4h, 6h, 8h, 12h, 1d, 3d, 1w, 1M\u001b[39;00m\n\u001b[1;32m---> 29\u001b[0m     pair_df\u001b[38;5;241m=\u001b[39m \u001b[43mget_historic_data\u001b[49m\u001b[43m(\u001b[49m\u001b[43msymbol\u001b[49m\u001b[38;5;241;43m=\u001b[39;49m\u001b[43mSYMBOL\u001b[49m\u001b[43m,\u001b[49m\u001b[43m \u001b[49m\u001b[43mtimestamp\u001b[49m\u001b[38;5;241;43m=\u001b[39;49m\u001b[43mt_start\u001b[49m\u001b[43m,\u001b[49m\u001b[43m \u001b[49m\u001b[43minterval\u001b[49m\u001b[38;5;241;43m=\u001b[39;49m\u001b[43mINTERVAL\u001b[49m\u001b[43m,\u001b[49m\u001b[43m \u001b[49m\u001b[43mfilename\u001b[49m\u001b[38;5;241;43m=\u001b[39;49m\u001b[43mpath\u001b[49m\u001b[38;5;241;43m+\u001b[39;49m\u001b[43mfilename\u001b[49m\u001b[43m)\u001b[49m\n\u001b[0;32m     30\u001b[0m     \u001b[38;5;28mprint\u001b[39m(pair_df\u001b[38;5;241m.\u001b[39mshape) \n\u001b[0;32m     32\u001b[0m     \u001b[38;5;66;03m#pair_df = get_all_historic_data(symbol=SYMBOL, interval=INTERVAL, filename=path+filename, key=bnc_key, secret=bnc_sec)\u001b[39;00m\n",
      "File \u001b[1;32mF:\\Data\\projects\\python\\trp\\data_proc.py:69\u001b[0m, in \u001b[0;36mget_historic_data\u001b[1;34m(symbol, timestamp, interval, filename, key, secret)\u001b[0m\n\u001b[0;32m     67\u001b[0m file\u001b[38;5;241m=\u001b[39m \u001b[38;5;124m'\u001b[39m\u001b[38;5;124mr_\u001b[39m\u001b[38;5;124m'\u001b[39m\u001b[38;5;241m+\u001b[39m file\n\u001b[0;32m     68\u001b[0m new_path \u001b[38;5;241m=\u001b[39m os\u001b[38;5;241m.\u001b[39mpath\u001b[38;5;241m.\u001b[39mjoin(\u001b[38;5;28mdir\u001b[39m, file)\n\u001b[1;32m---> 69\u001b[0m \u001b[43mbars\u001b[49m\u001b[38;5;241;43m.\u001b[39;49m\u001b[43mto_csv\u001b[49m(filename)\n\u001b[0;32m     71\u001b[0m \u001b[38;5;28;01mfor\u001b[39;00m line \u001b[38;5;129;01min\u001b[39;00m bars:\n\u001b[0;32m     72\u001b[0m     \u001b[38;5;28;01mdel\u001b[39;00m line[\u001b[38;5;241m6\u001b[39m:]\n",
      "\u001b[1;31mAttributeError\u001b[0m: 'list' object has no attribute 'to_csv'"
     ]
    }
   ],
   "source": [
    "#check this:\n",
    "# TOTAL_CANDLES = 120\n",
    "# SYMBOL = 'BTCUSDT'\n",
    "# INTERVAL ='15m'\n",
    "\n",
    "TOTAL_CANDLES = 200\n",
    "SYMBOL = 'BTCUSDT'\n",
    "INTERVAL ='1h'\n",
    "\n",
    "path = '.\\\\.data\\\\ntb\\\\'\n",
    "\n",
    "current_datetime = datetime.today()\n",
    "current_date = current_datetime.date()  # Extract date from datetime\n",
    "current_date_0h = current_datetime.replace(hour=0, minute=0, second=0, microsecond=0)\n",
    "\n",
    "#get 14 days back from today\n",
    "MAX_DAYS_TO_GET_BACK = 14\n",
    "current_date_0h -= timedelta(days=MAX_DAYS_TO_GET_BACK)\n",
    "\n",
    "# getting the timestamp for binance format\n",
    "# current_date_0h= datetime.fromisoformat('2023-12-06 00:00:00')\n",
    "t_start = int(datetime.timestamp(current_date_0h)*1000)\n",
    "\n",
    "tc= '-'\n",
    "filename = SYMBOL+tc+INTERVAL+current_date.strftime('-%Y-%m-%d-')+str(TOTAL_CANDLES)+'.csv'\n",
    "\n",
    "if not os.path.exists(path+filename):\n",
    "    # valid intervals - 1m, 3m, 5m, 15m, 30m, 1h, 2h, 4h, 6h, 8h, 12h, 1d, 3d, 1w, 1M\n",
    "    pair_df= get_historic_data(symbol=SYMBOL, timestamp=t_start, interval=INTERVAL, filename=path+filename)\n",
    "    print(pair_df.shape) \n",
    "    \n",
    "    #pair_df = get_all_historic_data(symbol=SYMBOL, interval=INTERVAL, filename=path+filename, key=bnc_key, secret=bnc_sec)\n",
    "    pair_df = pair_df[-TOTAL_CANDLES:] #get only latest TOTAL_CANDLES entries\n",
    "    print(pair_df.shape)\n",
    "else:\n",
    "    pair_df = read_data_tail(path+filename, TOTAL_CANDLES) #get only latest TOTAL_CANDLES entries\n"
   ]
  },
  {
   "cell_type": "code",
   "execution_count": null,
   "metadata": {},
   "outputs": [],
   "source": [
    "print(pair_df)"
   ]
  },
  {
   "cell_type": "markdown",
   "metadata": {},
   "source": [
    "## aquire selections"
   ]
  },
  {
   "cell_type": "code",
   "execution_count": null,
   "metadata": {},
   "outputs": [],
   "source": [
    "plt_filename = path+'m_'+ filename\n",
    "\n",
    "# Load points from file and continue editing/start anew\n",
    "plotter = plt_capture_onclick(pair_df, load_filename=plt_filename, pair_name = SYMBOL)"
   ]
  },
  {
   "cell_type": "markdown",
   "metadata": {},
   "source": [
    "## store selections"
   ]
  },
  {
   "cell_type": "code",
   "execution_count": null,
   "metadata": {},
   "outputs": [],
   "source": [
    "# Save points to file\n",
    "plotter.save_to_file()"
   ]
  },
  {
   "cell_type": "markdown",
   "metadata": {},
   "source": [
    "## debug print from chart, on mouse click "
   ]
  },
  {
   "cell_type": "code",
   "execution_count": null,
   "metadata": {},
   "outputs": [],
   "source": [
    "print(plotter.captured_output)"
   ]
  },
  {
   "cell_type": "code",
   "execution_count": null,
   "metadata": {},
   "outputs": [],
   "source": []
  }
 ],
 "metadata": {
  "kernelspec": {
   "display_name": "Python 3 (ipykernel)",
   "language": "python",
   "name": "python3"
  },
  "language_info": {
   "codemirror_mode": {
    "name": "ipython",
    "version": 3
   },
   "file_extension": ".py",
   "mimetype": "text/x-python",
   "name": "python",
   "nbconvert_exporter": "python",
   "pygments_lexer": "ipython3",
   "version": "3.10.0rc2"
  }
 },
 "nbformat": 4,
 "nbformat_minor": 4
}
