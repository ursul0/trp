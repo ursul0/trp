{
 "cells": [
  {
   "cell_type": "markdown",
   "metadata": {},
   "source": [
    "# includes"
   ]
  },
  {
   "cell_type": "code",
   "execution_count": 1,
   "metadata": {},
   "outputs": [],
   "source": [
    "from data_proc import get_historic_data, get_all_historic_data, read_data_tail\n",
    "from capture_plot import plt_capture_onclick\n",
    "\n",
    "from datetime import datetime, timedelta\n",
    "import os\n",
    "\n",
    "%matplotlib widget\n",
    "#%matplotlib inline\n",
    "#%matplotlib notebook\n",
    "\n"
   ]
  },
  {
   "cell_type": "code",
   "execution_count": null,
   "metadata": {},
   "outputs": [],
   "source": [
    "print(plt_filename)"
   ]
  },
  {
   "cell_type": "markdown",
   "metadata": {},
   "source": [
    "# simple flow"
   ]
  },
  {
   "cell_type": "markdown",
   "metadata": {},
   "source": [
    "## configure data input"
   ]
  },
  {
   "cell_type": "code",
   "execution_count": null,
   "metadata": {},
   "outputs": [],
   "source": [
    "#check this:\n",
    "# TOTAL_CANDLES = 120\n",
    "# SYMBOL = 'BTCUSDT'\n",
    "# INTERVAL ='15m'\n",
    "\n",
    "TOTAL_CANDLES = 200\n",
    "SYMBOL = 'BTCUSDT'\n",
    "INTERVAL ='1h'\n",
    "\n",
    "path = '.\\\\.data\\\\ntb\\\\'\n",
    "\n",
    "current_datetime = datetime.today()\n",
    "current_date = current_datetime.date()  # Extract date from datetime\n",
    "current_date_0h = current_datetime.replace(hour=0, minute=0, second=0, microsecond=0)\n",
    "\n",
    "#get 14 days back from today\n",
    "MAX_DAYS_TO_GET_BACK = 14\n",
    "current_date_0h -= timedelta(days=MAX_DAYS_TO_GET_BACK)\n",
    "\n",
    "# getting the timestamp for binance format\n",
    "# current_date_0h= datetime.fromisoformat('2023-12-06 00:00:00')\n",
    "t_start = int(datetime.timestamp(current_date_0h)*1000)\n",
    "\n",
    "tc= '-'\n",
    "filename = SYMBOL+tc+INTERVAL+current_date.strftime('-%Y-%m-%d-')+str(TOTAL_CANDLES)+'.csv'\n",
    "\n",
    "if not os.path.exists(path+filename):\n",
    "    # valid intervals - 1m, 3m, 5m, 15m, 30m, 1h, 2h, 4h, 6h, 8h, 12h, 1d, 3d, 1w, 1M\n",
    "    pair_df= get_historic_data(symbol=SYMBOL, timestamp=t_start, interval=INTERVAL, filename=path+filename)\n",
    "    print(pair_df.shape) \n",
    "    \n",
    "    #pair_df = get_all_historic_data(symbol=SYMBOL, interval=INTERVAL, filename=path+filename, key=bnc_key, secret=bnc_sec)\n",
    "    pair_df = pair_df[-TOTAL_CANDLES:] #get only latest TOTAL_CANDLES entries\n",
    "    print(pair_df.shape)\n",
    "else:\n",
    "    pair_df = read_data_tail(path+filename, TOTAL_CANDLES) #get only latest TOTAL_CANDLES entries\n"
   ]
  },
  {
   "cell_type": "code",
   "execution_count": null,
   "metadata": {},
   "outputs": [],
   "source": [
    "print(pair_df)"
   ]
  },
  {
   "cell_type": "markdown",
   "metadata": {},
   "source": [
    "## aquire selections"
   ]
  },
  {
   "cell_type": "code",
   "execution_count": null,
   "metadata": {},
   "outputs": [],
   "source": [
    "plt_filename = path+'m_'+ filename\n",
    "\n",
    "# Load points from file and continue editing/start anew\n",
    "plotter = plt_capture_onclick(pair_df, load_filename=plt_filename, pair_name = SYMBOL)"
   ]
  },
  {
   "cell_type": "markdown",
   "metadata": {},
   "source": [
    "## store selections"
   ]
  },
  {
   "cell_type": "code",
   "execution_count": null,
   "metadata": {},
   "outputs": [],
   "source": [
    "# Save points to file\n",
    "plotter.save_to_file()"
   ]
  },
  {
   "cell_type": "markdown",
   "metadata": {},
   "source": [
    "## debug print from chart, on mouse click "
   ]
  },
  {
   "cell_type": "code",
   "execution_count": null,
   "metadata": {},
   "outputs": [],
   "source": [
    "print(plotter.captured_output)"
   ]
  },
  {
   "cell_type": "code",
   "execution_count": null,
   "metadata": {},
   "outputs": [],
   "source": []
  }
 ],
 "metadata": {
  "kernelspec": {
   "display_name": "Python 3 (ipykernel)",
   "language": "python",
   "name": "python3"
  },
  "language_info": {
   "codemirror_mode": {
    "name": "ipython",
    "version": 3
   },
   "file_extension": ".py",
   "mimetype": "text/x-python",
   "name": "python",
   "nbconvert_exporter": "python",
   "pygments_lexer": "ipython3",
   "version": "3.10.0"
  }
 },
 "nbformat": 4,
 "nbformat_minor": 4
}
